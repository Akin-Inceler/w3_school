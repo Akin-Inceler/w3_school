{
 "cells": [
  {
   "cell_type": "code",
   "execution_count": 10,
   "id": "b4135bb0",
   "metadata": {},
   "outputs": [],
   "source": [
    "class Student:\n",
    "    def hello(self):\n",
    "        print(\"Hello, welcome!\")"
   ]
  },
  {
   "cell_type": "code",
   "execution_count": 11,
   "id": "d0d3f354",
   "metadata": {},
   "outputs": [
    {
     "name": "stdout",
     "output_type": "stream",
     "text": [
      "Hello, welcome!\n"
     ]
    }
   ],
   "source": [
    "student = Student()\n",
    "student.hello()"
   ]
  },
  {
   "cell_type": "code",
   "execution_count": 12,
   "id": "59b09a43",
   "metadata": {},
   "outputs": [
    {
     "name": "stdout",
     "output_type": "stream",
     "text": [
      "Hello, I am Akın İnceler my index number is 35525\n"
     ]
    }
   ],
   "source": [
    "class Student:\n",
    "    def __init__(self, name, index_number):\n",
    "        self.name = name\n",
    "        self.index_number = index_number\n",
    "\n",
    "    def hello(self):\n",
    "        print(f\"Hello, I am {self.name} my index number is {self.index_number}\")\n",
    "\n",
    "student1 = Student(\"Akın İnceler\", 35525)\n",
    "student1.hello()\n",
    "\n"
   ]
  }
 ],
 "metadata": {
  "kernelspec": {
   "display_name": "Python 3",
   "language": "python",
   "name": "python3"
  },
  "language_info": {
   "codemirror_mode": {
    "name": "ipython",
    "version": 3
   },
   "file_extension": ".py",
   "mimetype": "text/x-python",
   "name": "python",
   "nbconvert_exporter": "python",
   "pygments_lexer": "ipython3",
   "version": "3.12.1"
  }
 },
 "nbformat": 4,
 "nbformat_minor": 5
}
