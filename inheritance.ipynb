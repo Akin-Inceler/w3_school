{
 "cells": [
  {
   "cell_type": "markdown",
   "id": "d9b8f31c",
   "metadata": {},
   "source": [
    "## Inheritance ##"
   ]
  },
  {
   "cell_type": "markdown",
   "id": "00c75439",
   "metadata": {},
   "source": [
    "### A parent class ###"
   ]
  },
  {
   "cell_type": "code",
   "execution_count": 21,
   "id": "baff3d2a",
   "metadata": {},
   "outputs": [],
   "source": [
    "class Animal:\n",
    "    def give_sound(self, sound):\n",
    "        print(sound)"
   ]
  },
  {
   "cell_type": "code",
   "execution_count": 22,
   "id": "1eb67a3f",
   "metadata": {},
   "outputs": [
    {
     "name": "stdout",
     "output_type": "stream",
     "text": [
      "woof\n"
     ]
    }
   ],
   "source": [
    "my_animal = Animal()\n",
    "my_animal.give_sound('woof')"
   ]
  },
  {
   "cell_type": "markdown",
   "id": "c55131ee",
   "metadata": {},
   "source": [
    "## Child class ##"
   ]
  },
  {
   "cell_type": "code",
   "execution_count": 23,
   "id": "f242ad54",
   "metadata": {},
   "outputs": [],
   "source": [
    "class Dog(Animal):\n",
    "    def bark(self):\n",
    "        self.give_sound('woof')"
   ]
  },
  {
   "cell_type": "code",
   "execution_count": 24,
   "id": "8be13ade",
   "metadata": {},
   "outputs": [
    {
     "name": "stdout",
     "output_type": "stream",
     "text": [
      "woof\n"
     ]
    }
   ],
   "source": [
    "my_doggy = Dog()\n",
    "my_doggy.bark()"
   ]
  },
  {
   "cell_type": "markdown",
   "id": "995e83d8",
   "metadata": {},
   "source": [
    "### A parent class ###"
   ]
  },
  {
   "cell_type": "code",
   "execution_count": 25,
   "id": "aaaf3edd",
   "metadata": {},
   "outputs": [],
   "source": [
    "class Person:\n",
    "    def __init__(self, first_name, last_name):\n",
    "        self.first_name = first_name\n",
    "        self.last_name = last_name"
   ]
  },
  {
   "cell_type": "markdown",
   "id": "71c166b5",
   "metadata": {},
   "source": []
  },
  {
   "cell_type": "markdown",
   "id": "5bbafc90",
   "metadata": {},
   "source": [
    "## Student class without inheritance ##"
   ]
  },
  {
   "cell_type": "code",
   "execution_count": 26,
   "id": "3e5779d0",
   "metadata": {},
   "outputs": [
    {
     "name": "stdout",
     "output_type": "stream",
     "text": [
      "Name: Akin Inceler, index: 35525\n"
     ]
    }
   ],
   "source": [
    "class Student:\n",
    "    def __init__(self, first_name, last_name, index_number):\n",
    "        self.first_name = first_name\n",
    "        self.last_name = last_name\n",
    "        self.index_number = index_number\n",
    "\n",
    "    def display_info(self):\n",
    "        print(f\"Name: {self.first_name} {self.last_name}, index: {self.index_number}\")\n",
    "\n",
    "student1 = Student('Akin', 'Inceler', '35525')\n",
    "student1.display_info()"
   ]
  },
  {
   "cell_type": "markdown",
   "id": "0f42ddc3",
   "metadata": {},
   "source": [
    "### Student class with inheritance (as child class) ###"
   ]
  },
  {
   "cell_type": "code",
   "execution_count": 27,
   "id": "53320e73",
   "metadata": {},
   "outputs": [
    {
     "name": "stdout",
     "output_type": "stream",
     "text": [
      "Name: Akin Inceler, index: 35525\n"
     ]
    }
   ],
   "source": [
    "class Person:\n",
    "    def __init__(self, first_name, last_name):\n",
    "        self.first_name = first_name\n",
    "        self.last_name = last_name\n",
    "\n",
    "class Student(Person):\n",
    "    def __init__(self, first_name, last_name, index_number):\n",
    "        super().__init__(first_name, last_name)\n",
    "        self.index_number = index_number\n",
    "\n",
    "    def display_info(self):\n",
    "        print(f\"Name: {self.first_name} {self.last_name}, index: {self.index_number}\")\n",
    "\n",
    "student1 = Student('Akin', 'Inceler', '35525')\n",
    "student1.display_info()"
   ]
  }
 ],
 "metadata": {
  "kernelspec": {
   "display_name": "Python 3",
   "language": "python",
   "name": "python3"
  },
  "language_info": {
   "codemirror_mode": {
    "name": "ipython",
    "version": 3
   },
   "file_extension": ".py",
   "mimetype": "text/x-python",
   "name": "python",
   "nbconvert_exporter": "python",
   "pygments_lexer": "ipython3",
   "version": "3.12.1"
  }
 },
 "nbformat": 4,
 "nbformat_minor": 5
}
